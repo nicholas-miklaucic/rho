{
 "cells": [
  {
   "cell_type": "code",
   "execution_count": 1,
   "metadata": {},
   "outputs": [
    {
     "data": {
      "application/javascript": "(function(root) {\n  function now() {\n    return new Date();\n  }\n\n  var force = true;\n\n  if (typeof root._bokeh_onload_callbacks === \"undefined\" || force === true) {\n    root._bokeh_onload_callbacks = [];\n    root._bokeh_is_loading = undefined;\n  }\n\n  if (typeof (root._bokeh_timeout) === \"undefined\" || force === true) {\n    root._bokeh_timeout = Date.now() + 5000;\n    root._bokeh_failed_load = false;\n  }\n\n  function run_callbacks() {\n    try {\n      root._bokeh_onload_callbacks.forEach(function(callback) {\n        if (callback != null)\n          callback();\n      });\n    } finally {\n      delete root._bokeh_onload_callbacks\n    }\n    console.debug(\"Bokeh: all callbacks have finished\");\n  }\n\n  function load_libs(css_urls, js_urls, js_modules, callback) {\n    if (css_urls == null) css_urls = [];\n    if (js_urls == null) js_urls = [];\n    if (js_modules == null) js_modules = [];\n\n    root._bokeh_onload_callbacks.push(callback);\n    if (root._bokeh_is_loading > 0) {\n      console.debug(\"Bokeh: BokehJS is being loaded, scheduling callback at\", now());\n      return null;\n    }\n    if (js_urls.length === 0 && js_modules.length === 0) {\n      run_callbacks();\n      return null;\n    }\n    console.debug(\"Bokeh: BokehJS not loaded, scheduling load and callback at\", now());\n\n    function on_load() {\n      root._bokeh_is_loading--;\n      if (root._bokeh_is_loading === 0) {\n        console.debug(\"Bokeh: all BokehJS libraries/stylesheets loaded\");\n        run_callbacks()\n      }\n    }\n\n    function on_error() {\n      console.error(\"failed to load \" + url);\n    }\n\n    for (var i = 0; i < css_urls.length; i++) {\n      var url = css_urls[i];\n      const element = document.createElement(\"link\");\n      element.onload = on_load;\n      element.onerror = on_error;\n      element.rel = \"stylesheet\";\n      element.type = \"text/css\";\n      element.href = url;\n      console.debug(\"Bokeh: injecting link tag for BokehJS stylesheet: \", url);\n      document.body.appendChild(element);\n    }\n\n    var skip = [];\n    if (window.requirejs) {\n      window.requirejs.config({'packages': {}, 'paths': {'gridstack': 'https://cdn.jsdelivr.net/npm/gridstack@4.2.5/dist/gridstack-h5', 'notyf': 'https://cdn.jsdelivr.net/npm/notyf@3/notyf.min'}, 'shim': {'gridstack': {'exports': 'GridStack'}}});\n      require([\"gridstack\"], function(GridStack) {\n\twindow.GridStack = GridStack\n\ton_load()\n      })\n      require([\"notyf\"], function() {\n\ton_load()\n      })\n      root._bokeh_is_loading = css_urls.length + 2;\n    } else {\n      root._bokeh_is_loading = css_urls.length + js_urls.length + js_modules.length;\n    }    if (((window['GridStack'] !== undefined) && (!(window['GridStack'] instanceof HTMLElement))) || window.requirejs) {\n      var urls = ['https://cdn.jsdelivr.net/npm/gridstack@4.2.5/dist/gridstack-h5.js'];\n      for (var i = 0; i < urls.length; i++) {\n        skip.push(urls[i])\n      }\n    }    if (((window['Notyf'] !== undefined) && (!(window['Notyf'] instanceof HTMLElement))) || window.requirejs) {\n      var urls = ['https://cdn.jsdelivr.net/npm/notyf@3/notyf.min.js'];\n      for (var i = 0; i < urls.length; i++) {\n        skip.push(urls[i])\n      }\n    }    for (var i = 0; i < js_urls.length; i++) {\n      var url = js_urls[i];\n      if (skip.indexOf(url) >= 0) {\n\tif (!window.requirejs) {\n\t  on_load();\n\t}\n\tcontinue;\n      }\n      var element = document.createElement('script');\n      element.onload = on_load;\n      element.onerror = on_error;\n      element.async = false;\n      element.src = url;\n      console.debug(\"Bokeh: injecting script tag for BokehJS library: \", url);\n      document.head.appendChild(element);\n    }\n    for (var i = 0; i < js_modules.length; i++) {\n      var url = js_modules[i];\n      if (skip.indexOf(url) >= 0) {\n\tif (!window.requirejs) {\n\t  on_load();\n\t}\n\tcontinue;\n      }\n      var element = document.createElement('script');\n      element.onload = on_load;\n      element.onerror = on_error;\n      element.async = false;\n      element.src = url;\n      element.type = \"module\";\n      console.debug(\"Bokeh: injecting script tag for BokehJS library: \", url);\n      document.head.appendChild(element);\n    }\n    if (!js_urls.length && !js_modules.length) {\n      on_load()\n    }\n  };\n\n  function inject_raw_css(css) {\n    const element = document.createElement(\"style\");\n    element.appendChild(document.createTextNode(css));\n    document.body.appendChild(element);\n  }\n\n  var js_urls = [\"https://cdn.bokeh.org/bokeh/release/bokeh-2.4.3.min.js\", \"https://cdn.bokeh.org/bokeh/release/bokeh-gl-2.4.3.min.js\", \"https://cdn.bokeh.org/bokeh/release/bokeh-widgets-2.4.3.min.js\", \"https://cdn.bokeh.org/bokeh/release/bokeh-tables-2.4.3.min.js\", \"https://cdn.bokeh.org/bokeh/release/bokeh-mathjax-2.4.3.min.js\", \"https://cdn.jsdelivr.net/npm/gridstack@4.2.5/dist/gridstack-h5.js\", \"https://cdn.jsdelivr.net/npm/notyf@3/notyf.min.js\", \"https://unpkg.com/@holoviz/panel@0.13.1/dist/panel.min.js\"];\n  var js_modules = [];\n  var css_urls = [\"https://cdn.jsdelivr.net/npm/gridstack@4.2.5/dist/gridstack.min.css\", \"https://cdn.jsdelivr.net/npm/gridstack@4.2.5/dist/gridstack-extra.min.css\", \"https://cdn.jsdelivr.net/npm/notyf@3/notyf.min.css\", \"https://cdnjs.cloudflare.com/ajax/libs/font-awesome/5.15.1/css/all.min.css\", \"https://unpkg.com/@holoviz/panel@0.13.1/dist/css/alerts.css\", \"https://unpkg.com/@holoviz/panel@0.13.1/dist/css/markdown.css\", \"https://unpkg.com/@holoviz/panel@0.13.1/dist/css/widgets.css\", \"https://unpkg.com/@holoviz/panel@0.13.1/dist/css/card.css\", \"https://unpkg.com/@holoviz/panel@0.13.1/dist/css/json.css\", \"https://unpkg.com/@holoviz/panel@0.13.1/dist/css/dataframe.css\", \"https://unpkg.com/@holoviz/panel@0.13.1/dist/css/loading.css\", \"https://unpkg.com/@holoviz/panel@0.13.1/dist/css/debugger.css\"];\n  var inline_js = [    function(Bokeh) {\n      inject_raw_css(\"\\n    .bk.pn-loading.arcs:before {\\n      background-image: url(\\\"data:image/svg+xml;base64,PHN2ZyB4bWxucz0iaHR0cDovL3d3dy53My5vcmcvMjAwMC9zdmciIHhtbG5zOnhsaW5rPSJodHRwOi8vd3d3LnczLm9yZy8xOTk5L3hsaW5rIiBzdHlsZT0ibWFyZ2luOiBhdXRvOyBiYWNrZ3JvdW5kOiBub25lOyBkaXNwbGF5OiBibG9jazsgc2hhcGUtcmVuZGVyaW5nOiBhdXRvOyIgdmlld0JveD0iMCAwIDEwMCAxMDAiIHByZXNlcnZlQXNwZWN0UmF0aW89InhNaWRZTWlkIj4gIDxjaXJjbGUgY3g9IjUwIiBjeT0iNTAiIHI9IjMyIiBzdHJva2Utd2lkdGg9IjgiIHN0cm9rZT0iI2MzYzNjMyIgc3Ryb2tlLWRhc2hhcnJheT0iNTAuMjY1NDgyNDU3NDM2NjkgNTAuMjY1NDgyNDU3NDM2NjkiIGZpbGw9Im5vbmUiIHN0cm9rZS1saW5lY2FwPSJyb3VuZCI+ICAgIDxhbmltYXRlVHJhbnNmb3JtIGF0dHJpYnV0ZU5hbWU9InRyYW5zZm9ybSIgdHlwZT0icm90YXRlIiByZXBlYXRDb3VudD0iaW5kZWZpbml0ZSIgZHVyPSIxcyIga2V5VGltZXM9IjA7MSIgdmFsdWVzPSIwIDUwIDUwOzM2MCA1MCA1MCI+PC9hbmltYXRlVHJhbnNmb3JtPiAgPC9jaXJjbGU+PC9zdmc+\\\");\\n      background-size: auto calc(min(50%, 400px));\\n    }\\n    \");\n    },    function(Bokeh) {\n      inject_raw_css(\"\\n@import url('https://fonts.googleapis.com/css2?family=Source+Sans+3:ital,wght@0,200;0,300;0,400;0,500;0,600;0,700;0,800;0,900;1,200;1,300;1,400;1,500;1,600;1,700;1,800;1,900&display=swap');\\n\");\n    },    function(Bokeh) {\n      Bokeh.set_log_level(\"info\");\n    },\nfunction(Bokeh) {} // ensure no trailing comma for IE\n  ];\n\n  function run_inline_js() {\n    if ((root.Bokeh !== undefined) || (force === true)) {\n      for (var i = 0; i < inline_js.length; i++) {\n        inline_js[i].call(root, root.Bokeh);\n      }} else if (Date.now() < root._bokeh_timeout) {\n      setTimeout(run_inline_js, 100);\n    } else if (!root._bokeh_failed_load) {\n      console.log(\"Bokeh: BokehJS failed to load within specified timeout.\");\n      root._bokeh_failed_load = true;\n    }\n  }\n\n  if (root._bokeh_is_loading === 0) {\n    console.debug(\"Bokeh: BokehJS loaded, going straight to plotting\");\n    run_inline_js();\n  } else {\n    load_libs(css_urls, js_urls, js_modules, function() {\n      console.debug(\"Bokeh: BokehJS plotting callback run at\", now());\n      run_inline_js();\n    });\n  }\n}(window));",
      "application/vnd.holoviews_load.v0+json": ""
     },
     "metadata": {},
     "output_type": "display_data"
    },
    {
     "data": {
      "application/javascript": "\nif ((window.PyViz === undefined) || (window.PyViz instanceof HTMLElement)) {\n  window.PyViz = {comms: {}, comm_status:{}, kernels:{}, receivers: {}, plot_index: []}\n}\n\n\n    function JupyterCommManager() {\n    }\n\n    JupyterCommManager.prototype.register_target = function(plot_id, comm_id, msg_handler) {\n      if (window.comm_manager || ((window.Jupyter !== undefined) && (Jupyter.notebook.kernel != null))) {\n        var comm_manager = window.comm_manager || Jupyter.notebook.kernel.comm_manager;\n        comm_manager.register_target(comm_id, function(comm) {\n          comm.on_msg(msg_handler);\n        });\n      } else if ((plot_id in window.PyViz.kernels) && (window.PyViz.kernels[plot_id])) {\n        window.PyViz.kernels[plot_id].registerCommTarget(comm_id, function(comm) {\n          comm.onMsg = msg_handler;\n        });\n      } else if (typeof google != 'undefined' && google.colab.kernel != null) {\n        google.colab.kernel.comms.registerTarget(comm_id, (comm) => {\n          var messages = comm.messages[Symbol.asyncIterator]();\n          function processIteratorResult(result) {\n            var message = result.value;\n            console.log(message)\n            var content = {data: message.data, comm_id};\n            var buffers = []\n            for (var buffer of message.buffers || []) {\n              buffers.push(new DataView(buffer))\n            }\n            var metadata = message.metadata || {};\n            var msg = {content, buffers, metadata}\n            msg_handler(msg);\n            return messages.next().then(processIteratorResult);\n          }\n          return messages.next().then(processIteratorResult);\n        })\n      }\n    }\n\n    JupyterCommManager.prototype.get_client_comm = function(plot_id, comm_id, msg_handler) {\n      if (comm_id in window.PyViz.comms) {\n        return window.PyViz.comms[comm_id];\n      } else if (window.comm_manager || ((window.Jupyter !== undefined) && (Jupyter.notebook.kernel != null))) {\n        var comm_manager = window.comm_manager || Jupyter.notebook.kernel.comm_manager;\n        var comm = comm_manager.new_comm(comm_id, {}, {}, {}, comm_id);\n        if (msg_handler) {\n          comm.on_msg(msg_handler);\n        }\n      } else if ((plot_id in window.PyViz.kernels) && (window.PyViz.kernels[plot_id])) {\n        var comm = window.PyViz.kernels[plot_id].connectToComm(comm_id);\n        comm.open();\n        if (msg_handler) {\n          comm.onMsg = msg_handler;\n        }\n      } else if (typeof google != 'undefined' && google.colab.kernel != null) {\n        var comm_promise = google.colab.kernel.comms.open(comm_id)\n        comm_promise.then((comm) => {\n          window.PyViz.comms[comm_id] = comm;\n          if (msg_handler) {\n            var messages = comm.messages[Symbol.asyncIterator]();\n            function processIteratorResult(result) {\n              var message = result.value;\n              var content = {data: message.data};\n              var metadata = message.metadata || {comm_id};\n              var msg = {content, metadata}\n              msg_handler(msg);\n              return messages.next().then(processIteratorResult);\n            }\n            return messages.next().then(processIteratorResult);\n          }\n        }) \n        var sendClosure = (data, metadata, buffers, disposeOnDone) => {\n          return comm_promise.then((comm) => {\n            comm.send(data, metadata, buffers, disposeOnDone);\n          });\n        };\n        var comm = {\n          send: sendClosure\n        };\n      }\n      window.PyViz.comms[comm_id] = comm;\n      return comm;\n    }\n    window.PyViz.comm_manager = new JupyterCommManager();\n    \n\n\nvar JS_MIME_TYPE = 'application/javascript';\nvar HTML_MIME_TYPE = 'text/html';\nvar EXEC_MIME_TYPE = 'application/vnd.holoviews_exec.v0+json';\nvar CLASS_NAME = 'output';\n\n/**\n * Render data to the DOM node\n */\nfunction render(props, node) {\n  var div = document.createElement(\"div\");\n  var script = document.createElement(\"script\");\n  node.appendChild(div);\n  node.appendChild(script);\n}\n\n/**\n * Handle when a new output is added\n */\nfunction handle_add_output(event, handle) {\n  var output_area = handle.output_area;\n  var output = handle.output;\n  if ((output.data == undefined) || (!output.data.hasOwnProperty(EXEC_MIME_TYPE))) {\n    return\n  }\n  var id = output.metadata[EXEC_MIME_TYPE][\"id\"];\n  var toinsert = output_area.element.find(\".\" + CLASS_NAME.split(' ')[0]);\n  if (id !== undefined) {\n    var nchildren = toinsert.length;\n    var html_node = toinsert[nchildren-1].children[0];\n    html_node.innerHTML = output.data[HTML_MIME_TYPE];\n    var scripts = [];\n    var nodelist = html_node.querySelectorAll(\"script\");\n    for (var i in nodelist) {\n      if (nodelist.hasOwnProperty(i)) {\n        scripts.push(nodelist[i])\n      }\n    }\n\n    scripts.forEach( function (oldScript) {\n      var newScript = document.createElement(\"script\");\n      var attrs = [];\n      var nodemap = oldScript.attributes;\n      for (var j in nodemap) {\n        if (nodemap.hasOwnProperty(j)) {\n          attrs.push(nodemap[j])\n        }\n      }\n      attrs.forEach(function(attr) { newScript.setAttribute(attr.name, attr.value) });\n      newScript.appendChild(document.createTextNode(oldScript.innerHTML));\n      oldScript.parentNode.replaceChild(newScript, oldScript);\n    });\n    if (JS_MIME_TYPE in output.data) {\n      toinsert[nchildren-1].children[1].textContent = output.data[JS_MIME_TYPE];\n    }\n    output_area._hv_plot_id = id;\n    if ((window.Bokeh !== undefined) && (id in Bokeh.index)) {\n      window.PyViz.plot_index[id] = Bokeh.index[id];\n    } else {\n      window.PyViz.plot_index[id] = null;\n    }\n  } else if (output.metadata[EXEC_MIME_TYPE][\"server_id\"] !== undefined) {\n    var bk_div = document.createElement(\"div\");\n    bk_div.innerHTML = output.data[HTML_MIME_TYPE];\n    var script_attrs = bk_div.children[0].attributes;\n    for (var i = 0; i < script_attrs.length; i++) {\n      toinsert[toinsert.length - 1].childNodes[1].setAttribute(script_attrs[i].name, script_attrs[i].value);\n    }\n    // store reference to server id on output_area\n    output_area._bokeh_server_id = output.metadata[EXEC_MIME_TYPE][\"server_id\"];\n  }\n}\n\n/**\n * Handle when an output is cleared or removed\n */\nfunction handle_clear_output(event, handle) {\n  var id = handle.cell.output_area._hv_plot_id;\n  var server_id = handle.cell.output_area._bokeh_server_id;\n  if (((id === undefined) || !(id in PyViz.plot_index)) && (server_id !== undefined)) { return; }\n  var comm = window.PyViz.comm_manager.get_client_comm(\"hv-extension-comm\", \"hv-extension-comm\", function () {});\n  if (server_id !== null) {\n    comm.send({event_type: 'server_delete', 'id': server_id});\n    return;\n  } else if (comm !== null) {\n    comm.send({event_type: 'delete', 'id': id});\n  }\n  delete PyViz.plot_index[id];\n  if ((window.Bokeh !== undefined) & (id in window.Bokeh.index)) {\n    var doc = window.Bokeh.index[id].model.document\n    doc.clear();\n    const i = window.Bokeh.documents.indexOf(doc);\n    if (i > -1) {\n      window.Bokeh.documents.splice(i, 1);\n    }\n  }\n}\n\n/**\n * Handle kernel restart event\n */\nfunction handle_kernel_cleanup(event, handle) {\n  delete PyViz.comms[\"hv-extension-comm\"];\n  window.PyViz.plot_index = {}\n}\n\n/**\n * Handle update_display_data messages\n */\nfunction handle_update_output(event, handle) {\n  handle_clear_output(event, {cell: {output_area: handle.output_area}})\n  handle_add_output(event, handle)\n}\n\nfunction register_renderer(events, OutputArea) {\n  function append_mime(data, metadata, element) {\n    // create a DOM node to render to\n    var toinsert = this.create_output_subarea(\n    metadata,\n    CLASS_NAME,\n    EXEC_MIME_TYPE\n    );\n    this.keyboard_manager.register_events(toinsert);\n    // Render to node\n    var props = {data: data, metadata: metadata[EXEC_MIME_TYPE]};\n    render(props, toinsert[0]);\n    element.append(toinsert);\n    return toinsert\n  }\n\n  events.on('output_added.OutputArea', handle_add_output);\n  events.on('output_updated.OutputArea', handle_update_output);\n  events.on('clear_output.CodeCell', handle_clear_output);\n  events.on('delete.Cell', handle_clear_output);\n  events.on('kernel_ready.Kernel', handle_kernel_cleanup);\n\n  OutputArea.prototype.register_mime_type(EXEC_MIME_TYPE, append_mime, {\n    safe: true,\n    index: 0\n  });\n}\n\nif (window.Jupyter !== undefined) {\n  try {\n    var events = require('base/js/events');\n    var OutputArea = require('notebook/js/outputarea').OutputArea;\n    if (OutputArea.prototype.mime_types().indexOf(EXEC_MIME_TYPE) == -1) {\n      register_renderer(events, OutputArea);\n    }\n  } catch(err) {\n  }\n}\n",
      "application/vnd.holoviews_load.v0+json": ""
     },
     "metadata": {},
     "output_type": "display_data"
    },
    {
     "data": {
      "text/html": [
       "<style>.bk-root, .bk-root .bk:before, .bk-root .bk:after {\n",
       "  font-family: var(--jp-ui-font-size1);\n",
       "  font-size: var(--jp-ui-font-size1);\n",
       "  color: var(--jp-ui-font-color1);\n",
       "}\n",
       "</style>"
      ]
     },
     "metadata": {},
     "output_type": "display_data"
    }
   ],
   "source": [
    "#constellate: setup\n",
    "import numpy as np\n",
    "import pandas as pd\n",
    "import matplotlib.pyplot as plt\n",
    "import seaborn as sns\n",
    "from scipy import stats\n",
    "import colorcet as cc\n",
    "import scipy\n",
    "from sympy import *\n",
    "import rho_plus\n",
    "\n",
    "IS_DARK = True\n",
    "theme, cs = rho_plus.mpl_setup(IS_DARK)\n",
    "\n",
    "import panel as pn\n",
    "import param\n",
    "import bokeh\n",
    "pn.extension('gridstack', sizing_mode='scale_both')\n",
    "from panel.layout.gridstack import GridStack"
   ]
  },
  {
   "cell_type": "markdown",
   "metadata": {},
   "source": [
    "# Metropolis-Hastings In the Real World\n",
    "\n",
    "Last time, I introduced the Metropolis-Hastings algorithm for approximating probability distributions with an unknown normalizing factor, and I alluded to applications of this algorithm in Bayesian inference. I also mentioned how I chose a particularly easy example and that the real world poses more serious challenges.\n",
    "\n",
    "Today, the training wheels are coming off! I'll be applying Metropolis-Hastings to do Bayesian inference in a problem like the ones you might encounter in the real world doing machine learning. We won't know the true distribution we're approximating, and we'll have to deal with the kinds of restrictions that come up in practice.\n",
    "\n",
    "When we're trying to fit a probabilistic model to the real world, we aren't usually interested in the minutia of the code, and we want the feedback loop between proposing a model and getting results to be as quick and painless as possible. As such, I'll pay extra attention to how Metropolis-Hastings can be automated into an \"inference button\" that, given a set of prior beliefs and evidence, gives us our new beliefs with as little hand tuning as possible. Let's get started!"
   ]
  },
  {
   "cell_type": "markdown",
   "metadata": {},
   "source": [
    "## Problem Setup\n",
    "\n",
    "### Gaussian Mixture Models\n",
    "\n",
    "We'll be fitting something known as a *Gaussian mixture model.* Specifically, a Gaussian mixture model is a generalization of the normal (or Gaussian, hence the name) distribution. Instead of having a single normal distribution, we imagine a dataset created by mixing multiple Gaussian distributions with different frequencies.\n",
    "\n",
    "This is important because, in the real world, there are often important *latent variables*—unseen information that affects the data you have—that we don't know about. Many real-world datasets are roughly normally distributed, or at least unimodal: having a single peak. So, if a dataset looks strongly multimodal, having several distinct peaks, that's a hint that there's more to the story. We should probably be hunting for hidden variables that explain our data better than our current models, and we should be suspicious of many machine learning techniques that assume normally distributed or unimodal data. Examples from the real world:\n",
    "\n",
    " * If response to a medical treatment is bimodal, perhaps the treatment works differently in people with a specific gene.\n",
    " * If customer behavior is multimodal, that might indicate different segments of a market that could be identified.\n",
    " * If political preferences are multimodal, then perhaps those modes represent different voting blocs that should be accounted for when polling."
   ]
  },
  {
   "cell_type": "code",
   "execution_count": 2,
   "metadata": {},
   "outputs": [
    {
     "data": {
      "text/plain": [
       "Text(0.5, 1.0, 'Mixture of Two Normal Distributions')"
      ]
     },
     "execution_count": 2,
     "metadata": {},
     "output_type": "execute_result"
    },
    {
     "data": {
      "image/png": "[encoded data removed]",
      "text/plain": [
       "<Figure size 864x432 with 2 Axes>"
      ]
     },
     "metadata": {},
     "output_type": "display_data"
    }
   ],
   "source": [
    "fig, (ax1, ax2) = plt.subplots(1, 2, figsize=(12, 6), sharex=True, sharey=True)\n",
    "\n",
    "xx = np.linspace(-3, 3, 100)\n",
    "\n",
    "ax1.plot(xx, stats.norm.pdf(xx), color=cs[0], lw=3)\n",
    "ax2.plot(xx, 0.7 * stats.norm(loc=-1, scale=0.5).pdf(xx) + 0.3 * stats.norm(loc=2, scale=0.3).pdf(xx), color=cs[1], lw=3)\n",
    "\n",
    "ax1.set_yticks([])\n",
    "\n",
    "ax1.set_title('Single Normal Distribution')\n",
    "ax2.set_title('Mixture of Two Normal Distributions')"
   ]
  },
  {
   "cell_type": "markdown",
   "metadata": {},
   "source": [
    "There's a chicken-and-egg problem that rears its ugly head here. It's quite simple to fit an normal distribution to a dataset: just take the mean and standard deviation of the data, and the normal distribution with that mean and standard deviation will be the best fit. But if our dataset is clustered into different parts, we can't easily estimate the parameters of the different mixture model components without knowing which parts of the data fall into each category. But we can't estimate which data points fall into which category until we know what the categories look like!\n",
    "\n",
    "This is a problem with a long history, and there are many approaches. Bayesian statistics provides an especially elegant approach that we'll be using, but I'd be remiss not to point out how this problem appears in a guise you may not recognize at first."
   ]
  },
  {
   "cell_type": "markdown",
   "metadata": {},
   "source": [
    "### K-Means Clustering as Gaussian Mixture Modeling\n",
    "\n",
    "Let's say we have some data we want to split into clusters. A common algorithm for doing this defines a cluster using a cluster center. Each point then gets assigned to the cluster center that it's closest to. We can fit this model using a technique called *Lloyd's algorithm*:\n",
    "\n",
    " * Start with $k$ cluster centers, initialized however we like.[^1]\n",
    " * Repeat the following two steps until the cluster centers no longer change:\n",
    "   * Assign each point to the cluster of the center it's closest to.\n",
    "   * Move each cluster center to the centroid (average) of all of the points of its cluster.\n",
    "\n",
    "[^1]: How you do this matters a fair bit—this is one of the weaknesses of k-means. We're not going to worry about it here, but if you're using this in the real world you should look at k-means++ and similar initialization strategies."
   ]
  },
  {
   "cell_type": "code",
   "execution_count": 3,
   "metadata": {},
   "outputs": [],
   "source": [
    "#constellate: setup_panel\n",
    "\n",
    "from bokeh.sampledata.iris import flowers\n",
    "from rho_plus.util import labelcase\n",
    "import holoviews as hv\n",
    "from holoviews import opts\n",
    "\n",
    "flowers.columns = labelcase(flowers.columns)"
   ]
  },
  {
   "cell_type": "markdown",
   "metadata": {},
   "source": [
    "You can see how this works for a random dataset opposite. We start with a bad setup and converge to a good one over time. Things won't work the same each time, and there are cases in which this sequence of steps does not converge well at all."
   ]
  },
  {
   "cell_type": "code",
   "execution_count": 12,
   "metadata": {},
   "outputs": [
    {
     "data": {
      "application/vnd.jupyter.widget-view+json": {
       "model_id": "70b30e26226c47aa9990fce505ee925e",
       "version_major": 2,
       "version_minor": 0
      },
      "text/plain": [
       "BokehModel(combine_events=True, render_bundle={'docs_json': {'3d2d5ca4-f4a5-4a00-8e34-97d21416de2c': {'defs': …"
      ]
     },
     "metadata": {},
     "output_type": "display_data"
    },
    {
     "data": {
      "text/html": [
       "<div style=\"display: none\"></div>"
      ],
      "text/plain": [
       "GridSpec(margin=20, ncols=2, nrows=12, sizing_mode='stretch_both')\n",
       "    [0] Button(button_type='primary', margin=10, name='Step', sizing_mode='stretch_both')\n",
       "    [1] Button(margin=10, name='Reset', sizing_mode='stretch_both')\n",
       "    [2] ParamMethod(method, sizing_mode='stretch_both')"
      ]
     },
     "execution_count": 12,
     "metadata": {},
     "output_type": "execute_result"
    }
   ],
   "source": [
    "from scipy.spatial import Voronoi\n",
    "\n",
    "# generate dataset with clusters\n",
    "np.random.seed(3143)\n",
    "nd = np.array([50, 30, 20, 10])\n",
    "xlim = np.array([-5, 5])\n",
    "ylim = np.array([-5, 5])\n",
    "\n",
    "mu = np.array([[3, -3], [-3, 3], [3, 3], [-3, -3]])\n",
    "sigma = np.array([1, 2, 1, 1])\n",
    "\n",
    "pts = []\n",
    "for mean, sd, n in zip(mu, sigma, nd):\n",
    "    pts += list(stats.multivariate_normal(mean, sd).rvs(n))\n",
    "\n",
    "pts = np.array(pts)\n",
    "\n",
    "rng: np.random.BitGenerator = np.random.default_rng(310)\n",
    "\n",
    "class KMeans(rho_plus.ThemedPanel):\n",
    "    centers = param.Array(default=None, precedence=-1)\n",
    "    assignments = param.Array(default=None, precedence=-1)\n",
    "    phase = param.ObjectSelector(['expectation', 'maximization'], precedence=-1)\n",
    "    \n",
    "    def __init__(self):\n",
    "        super().__init__()\n",
    "        self.initialize_centers()\n",
    "\n",
    "    def initialize_centers(self):\n",
    "        self.centers = rng.multivariate_normal(np.array([2, 2]), np.eye(2) * 0.5, len(nd))\n",
    "        self.phase = 'expectation'\n",
    "        self.step()\n",
    "    \n",
    "    def step(self):\n",
    "        if self.phase == 'expectation':\n",
    "            # expectation step: assign new cluster identities\n",
    "            self.assignments = np.square(pts.reshape(1, -1, 2) - self.centers.reshape(-1, 1, 2)).sum(axis=2).argmin(axis=0)\n",
    "            self.phase = 'maximization'\n",
    "        else:\n",
    "            # maximization step: reassign cluster centers\n",
    "            centers = []\n",
    "            for i in range(len(nd)):\n",
    "                centers.append(np.mean(pts[self.assignments == i], axis=0))\n",
    "            self.centers = np.array(centers)\n",
    "            self.phase = 'expectation'\n",
    "\n",
    "    def plot(self):\n",
    "        colors, theme = self.colors_theme()\n",
    "        fig = bokeh.plotting.figure(title='K-Means', x_range=xlim, y_range=ylim)\n",
    "\n",
    "        # get around points at infinity by replacing them with \"points very far away\"        \n",
    "        left_x = xlim[0] - 2 * (xlim[1] - xlim[0])\n",
    "        right_x = xlim[1] + 2 * (xlim[1] - xlim[0])\n",
    "        top_y = ylim[1] + 2 * (ylim[1] - ylim[0])\n",
    "        bottom_y = ylim[0] - 2 * (ylim[1] - ylim[0])\n",
    "        distant_pts = np.array([[left_x, bottom_y], [left_x, top_y], [right_x, top_y], [right_x, bottom_y]])\n",
    "        vor = Voronoi(np.vstack([self.centers, distant_pts]))\n",
    "\n",
    "        for i, (center, vor_j, color) in enumerate(zip(self.centers, vor.point_region, colors)):\n",
    "            fig.circle(*pts[self.assignments == i].T, color=color, size=6, legend_label='Point')\n",
    "            fig.square(x=center[0], y=center[1], color=color, size=12, legend_label='Center')\n",
    "\n",
    "            fig.patch(*vor.vertices[vor.regions[vor_j]].T, alpha=0.3, color=color)\n",
    "                \n",
    "        return pn.pane.Bokeh(fig, theme=theme)\n",
    "\n",
    "mod = KMeans()\n",
    "\n",
    "step = pn.widgets.Button(name='Step', button_type='primary', sizing_mode='stretch_both', margin=10)\n",
    "step.on_click(lambda evt: mod.step())\n",
    "\n",
    "reset = pn.widgets.Button(name='Reset', button_type='default', sizing_mode='stretch_both', margin=10)\n",
    "reset.on_click(lambda evt: mod.initialize_centers())\n",
    "\n",
    "obj = pn.GridSpec(sizing_mode='stretch_both', margin=20)\n",
    "obj[11, 0:1] = step\n",
    "obj[11, 1:2] = reset\n",
    "obj[:11, :] = mod.plot\n",
    "\n",
    "obj.servable()"
   ]
  },
  {
   "cell_type": "markdown",
   "metadata": {},
   "source": [
    "### Why Probability?\n",
    "\n",
    "Despite occasional problems, this algorithm tends to work quite well for clustering datasets. There are a few practical issues, however:\n",
    "\n",
    " - You have to specify the number of clusters beforehand, and results can be quite odd if that choice is incorrect for your data.\n",
    " - Similarly, if the initialization does affect the final output, it's not clear how we'd go about figuring out which initialization produces the best results.\n",
    "\n",
    "There are nonprobabilistic solutions to these problems, but statistics and probability gives us elegant, principled solutions for them. If we can compute the likelihood of observing the data we have under different models (say, with different amounts of clusters), we can pick the model that matches our data the best, and that provides a way of assessing our final model fit that has a strong theoretical foundation.\n",
    "\n",
    "Probabilistic modeling also lets us reason about uncertainty, which is a serious benefit in a world that rarely gives us complete information. We can answer questions like \"what is the probability this point belongs to cluster A as opposed to cluster B\" and make decisions using that information without over- or under-promising how much we know.\n",
    "\n",
    "This means we're going to be using a probabilistic version of k-means clustering to analyze some data. Let's get started!"
   ]
  },
  {
   "cell_type": "markdown",
   "metadata": {},
   "source": [
    "## Exploring the Data: Flower Power\n",
    "\n",
    "We will be analyzing a classic dataset: measurement information collected from 150 different iris flowers. We have sepal width and length and petal width and length, all in centimeters. The 150 iris flowers are grouped into 3 sets of 50 irises in the same species: *Iris setosa*, *Iris versicolour*, and *Iris virginica* (pictured). The dataset comes from Ronald Fischer, a titan of the field who was laying the groundwork for much of modern statistics in the 1930s.[^1]\n",
    "\n",
    "[^1]: He also supported eugenics, so I'll limit my adulation to Fisher's statistical work."
   ]
  },
  {
   "cell_type": "markdown",
   "metadata": {},
   "source": [
    "#constellate: latex\n",
    "\n",
    "![Iris virginica](https://upload.wikimedia.org/wikipedia/commons/thumb/4/41/Iris_versicolor_3.jpg/1280px-Iris_versicolor_3.jpg?1661442318087)"
   ]
  },
  {
   "cell_type": "markdown",
   "metadata": {},
   "source": [
    "### Visualizing Data Slices\n",
    "\n",
    "The data we're clustering has 4 different dimensions, so it's not possible for me to show all of it in one plot. I will instead show multiple 2D slices of the data, which should give a sense of what we're dealing with.\n",
    "\n",
    "It's a lot to look at, so take a second to familiarize yourself. You'll be seeing a lot more of this data!\n",
    "\n",
    "The important things to notice:\n",
    " - <span class='text-c1'>*setosa*</span> flowers are clearly separated from the other two types\n",
    " - Although <span class='text-c2'>*versicolor*</span> and <span class='text-c3'>*virginica*</span> flowers are closer, they are still distinguishable, particularly when looking at their petals."
   ]
  },
  {
   "cell_type": "code",
   "execution_count": 16,
   "metadata": {},
   "outputs": [
    {
     "data": {
      "application/vnd.jupyter.widget-view+json": {
       "model_id": "a235b640b7094825b669a2693e7a2de4",
       "version_major": 2,
       "version_minor": 0
      },
      "text/plain": [
       "BokehModel(combine_events=True, render_bundle={'docs_json': {'02d4f7ce-feab-4110-9391-cc86e295a0d0': {'defs': …"
      ]
     },
     "metadata": {},
     "output_type": "display_data"
    },
    {
     "data": {
      "text/html": [
       "<div style=\"display: none\"></div>"
      ],
      "text/plain": [
       "Row(margin=(5, 5, 30, 5), sizing_mode='stretch_both')\n",
       "    [0] ParamMethod(method, sizing_mode='scale_both')"
      ]
     },
     "execution_count": 16,
     "metadata": {},
     "output_type": "execute_result"
    }
   ],
   "source": [
    "import holoviews as hv\n",
    "import panel as pn\n",
    "from holoviews import opts\n",
    "from hvplot import scatter_matrix\n",
    "from rho_plus.util import labelcase\n",
    "\n",
    "pn.extension(template='fast', comms='vscode')\n",
    "\n",
    "flowers.columns = labelcase(flowers.columns)\n",
    "\n",
    "class IrisGrid(rho_plus.ThemedPanel):\n",
    "    @pn.depends('colorMode')\n",
    "    def plot(self):\n",
    "        colors, theme = self.colors_theme()\n",
    "\n",
    "        hv.Cycle.default_cycles['default_colors'] = colors\n",
    "\n",
    "        hv.renderer('bokeh').theme = theme\n",
    "        gm = scatter_matrix(flowers, cmap=colors, alpha=0.4, diagonal='kde', c='Species', tools=['box_select', 'hover'], size=5)\n",
    "        plots = [None for _ in range(len(gm.values()))]\n",
    "        n_rows = n_cols = int(np.sqrt(len(gm.values())))\n",
    "        for i, ((x, y), plot) in zip(np.arange(len(plots)).reshape(n_rows, n_cols).T.flatten(), gm.items()):\n",
    "            row = i // n_rows\n",
    "            col = i % n_rows    \n",
    "            label_x = row == n_rows - 1\n",
    "            label_y = col == 0\n",
    "            plots[i] = plot.opts(\n",
    "                responsive=True,\n",
    "                show_legend=bool(i == 0),\n",
    "                xlabel=x if label_x else '',\n",
    "                ylabel=y if label_y else '',                \n",
    "            )\n",
    "            \n",
    "        gm = hv.Layout(plots).cols(n_cols)\n",
    "        return pn.pane.HoloViews(gm, center=True, sizing_mode='stretch_both')\n",
    "\n",
    "ig = IrisGrid()\n",
    "\n",
    "pn.Row(ig.plot, sizing_mode='stretch_both', margin=(5, 5, 30, 5)).servable()"
   ]
  },
  {
   "cell_type": "markdown",
   "metadata": {},
   "source": [
    "### Figuring Out What We Already Know\n",
    "\n",
    "A common way of using this iris dataset is to train some machine learning model to predict an iris's species given its measurements. We're going to try something a bit more challenging. If we give a model just the measurements, without telling it about the species, can it infer that the irises are split up into three distinct groups and estimate what those groups are?\n",
    "\n",
    "It's a lot more useful to find these hidden subgroups than it is to split data into subgroups you already know exist. If you're predicting how a new patient will respond to a drug, or how a new customer will respond to a sale, you probably don't have a perfect understanding of what different groups of people exist within the larger population. Perhaps specific genes are important for a drug, perhaps they aren't. A model that can take in a large population of people and then split them into groups we can go try to explain after the fact can be an invaluable tool.\n",
    "\n",
    "This also helps us understand whether a group is important in the first place. If our model doesn't see two groups we thought were different as distinct, perhaps that difference isn't relevant to the problem at hand. If we care about these iris measurements and not other properties, is it worth drawing a line between *versicolor* and *virginica* flowers? That's not a question that a model we train specifically to tell them apart will be able to answer for us, but it's a very natural fit for a probabilistic model."
   ]
  },
  {
   "cell_type": "markdown",
   "metadata": {},
   "source": [
    "## Storytime: the Gaussian Mixture Model\n",
    "\n",
    "Bayesian inference is fundamentally inductive: we describe how our data was created and Bayes' Theorem fills in missing details given the actual data. So in order to do Gaussian mixture modeling, we need a story for how this data came to be. That story goes something like this. Each of the variables is something we want to figure out, given our actual data set.\n",
    "\n",
    "To generate a single data point (petal and sepal width/length):\n",
    " - We pick a cluster to put our new iris in. There are $n$ different clusters numbered $0$ through $n - 1$. There are ways of telling this story where we don't have to pick $n$, but it makes the math more difficult.[^1] So, for now, we're going to assume that we're given $n$. \n",
    " - Picking a cluster is equivalent to selecting $i \\in \\{0, 1, 2, 3, \\dots, n - 1\\}$. These clusters can have different probabilities of being picked, according to some vector of probabilities $\\langle p_1, p_2, \\dots, p_n \\rangle$ that adds up to 1.\n",
    " - We draw a random value from a normal distribution dependent on the cluster we picked earlier. We have some mean $\\mu_i$ and some covariance $\\Sigma_i$ that determines what the \"average\" iris of cluster $i$ looks like and how spread out those irises are in every dimension.\n",
    " - That's it!\n",
    "\n",
    "[^1]: Look up Dirichlet processes to see what this might look like.\n",
    "\n",
    "Our goal is, given a bunch of outputs from this process, to estimate $n$ and $p_i, \\mu_i, \\Sigma_i$ for each cluster $i$. Using Bayesian inference, we're not just going to get a single guess for each, but rather a probability distribution over all of these values that will let us be as confident as we ought to be."
   ]
  },
  {
   "cell_type": "markdown",
   "metadata": {},
   "source": [
    "### Who Needs Machine Learning?\n",
    "\n",
    "The best way to get a feel for what this model looks like is to pick some parameters and see what the model's predictions are. Try to find a setting for all of these dials such that the probability of seeing the specific points we did see is high.\n",
    "\n",
    "While you're doing that, think about the struggles a computer might have in estimating these parameters. For example, note how properly setting the variance only makes the model better when the means are already in a good place."
   ]
  },
  {
   "cell_type": "code",
   "execution_count": 20,
   "metadata": {},
   "outputs": [
    {
     "data": {
      "application/vnd.jupyter.widget-view+json": {
       "model_id": "5faadfdb88b445aaacd09218d78d9346",
       "version_major": 2,
       "version_minor": 0
      },
      "text/plain": [
       "BokehModel(combine_events=True, render_bundle={'docs_json': {'0abd6b61-cac2-4725-9281-5a1c0106dddf': {'defs': …"
      ]
     },
     "metadata": {},
     "output_type": "display_data"
    },
    {
     "data": {
      "text/html": [
       "<div style=\"display: none\"></div>"
      ],
      "text/plain": [
       "GridSpec(ncols=6, nrows=1, sizing_mode='stretch_both')\n",
       "    [0] Column(sizing_mode='stretch_both')\n",
       "        [0] Param(GMMTest, name='Cluster Size', sizing_mode='stretch_both')\n",
       "        [1] Param(Gaussian, name='Cluster 1', sizing_mode='scale_both')\n",
       "        [2] Param(Gaussian, name='Cluster 2', sizing_mode='scale_both')\n",
       "    [1] Column(sizing_mode='stretch_both')\n",
       "        [0] ParamMethod(method, sizing_mode='scale_both')\n",
       "    [2] Spacer(sizing_mode='stretch_both')"
      ]
     },
     "execution_count": 20,
     "metadata": {},
     "output_type": "execute_result"
    }
   ],
   "source": [
    "import param\n",
    "from scipy import stats\n",
    "\n",
    "class Gaussian(param.Parameterized):\n",
    "    mu_x = param.Number(label='Mean petal width', default=0.2, bounds=(0, 3))\n",
    "    mu_y = param.Number(label='Mean petal length', default=0.2, bounds=(0, 7))\n",
    "    sigma_x = param.Number(label='Petal width standard deviation', default=1, bounds=(0, 2))\n",
    "    sigma_y = param.Number(label='Petal length standard deviation', default=1, bounds=(0, 4))\n",
    "    sigma_xy = param.Number(label='Petal width/length correlation', default=0, bounds=(-1, 1), step=0.01)\n",
    "\n",
    "    @pn.depends('mu_x', 'mu_y', 'sigma_x', 'sigma_y', 'sigma_xy')\n",
    "    def generate_pdf(self, xy):\n",
    "        mu = np.array([self.mu_x, self.mu_y])\n",
    "        sigma_cov = self.sigma_x * self.sigma_y * self.sigma_xy \n",
    "        sigma = np.array([\n",
    "            [self.sigma_x, sigma_cov],\n",
    "            [sigma_cov, self.sigma_y]\n",
    "        ])\n",
    "\n",
    "        return stats.multivariate_normal(mu, sigma, allow_singular=True).pdf(xy)\n",
    "\n",
    "\n",
    "class GMMTest(rho_plus.ThemedPanel):\n",
    "    clust1 = Gaussian()\n",
    "    clust2 = Gaussian()\n",
    "\n",
    "    p1 = param.Number(label='Proportion in cluster 1', default=0.5, bounds=(0, 1), step=0.01)\n",
    "\n",
    "    def __init__(self):\n",
    "        super().__init__()    \n",
    "        self.clust2.mu_x = 3\n",
    "        self.clust2.mu_y = 5\n",
    "\n",
    "    @pn.depends('clust1.param', 'clust2.param', 'p1')\n",
    "    def generate_pdf(self, xy):\n",
    "        return self.clust1.generate_pdf(xy).T * self.p1 + self.clust2.generate_pdf(xy).T * (1 - self.p1)\n",
    "        \n",
    "\n",
    "    @pn.depends('clust1.param', 'clust2.param', 'p1', 'colorMode')\n",
    "    def plot(self):\n",
    "        colors, theme = self.colors_theme()\n",
    "        hv.Cycle.default_cycles['default_colors'] = colors\n",
    "        hv.renderer('bokeh').theme = theme\n",
    "\n",
    "        xx, yy = np.mgrid[0:3.5:0.05, 0:7:0.1]\n",
    "        xy = np.dstack([xx, yy])    \n",
    "\n",
    "        cmap = rho_plus.umbra\n",
    "        if self.colorMode != 'light':\n",
    "            cmap = cmap.rev()\n",
    "\n",
    "        img = hv.operation.contours(hv.Image((xx[:, 0], yy[0], self.generate_pdf(xy))), levels=8, filled=True).opts(            \n",
    "            cmap=cmap.as_mpl_cmap(),            \n",
    "            xlabel='Petal Width',\n",
    "            ylabel='Petal Length',\n",
    "            responsive=True        \n",
    "        )\n",
    "\n",
    "        pdf = hv.QuadMesh((xx, yy, self.generate_pdf(xy))).opts(opts.QuadMesh(\n",
    "            cmap=rho_plus.viridia.as_mpl_cmap(), \n",
    "            colorbar=True,\n",
    "            clim=(0, 0.3),\n",
    "            line_width=5,\n",
    "            xlabel='Petal Width',\n",
    "            ylabel='Petal Length'\n",
    "        ))\n",
    "        points = hv.Points(flowers, kdims=['Petal Width', 'Petal Length']).opts(opts.Points(\n",
    "            color=colors[0],\n",
    "            size=8,\n",
    "            xlim=(np.min(xx), np.max(xx)),\n",
    "            ylim=(np.min(yy), np.max(yy)),\n",
    "            responsive=True,\n",
    "        ))\n",
    "        plot = img * points\n",
    "        return pn.pane.HoloViews(plot, sizing_mode='stretch_both')\n",
    "\n",
    "mod = GMMTest()\n",
    "obj = pn.GridSpec(sizing_mode='stretch_both')\n",
    "obj[:, :1] = pn.Column(\n",
    "    pn.Param(mod, sizing_mode='stretch_both', name='Cluster Size'),\n",
    "    pn.Param(mod.clust1, name='Cluster 1'),\n",
    "    pn.Param(mod.clust2, name='Cluster 2')\n",
    ")\n",
    "obj[:, 1:5] = pn.Column(mod.plot, sizing_mode='stretch_both')\n",
    "obj[:, 5:6] = pn.Spacer()\n",
    "obj.servable()"
   ]
  },
  {
   "cell_type": "code",
   "execution_count": null,
   "metadata": {},
   "outputs": [],
   "source": []
  }
 ],
 "metadata": {
  "interpreter": {
   "hash": "e1f500c63928480d774878a0f07da46b956d5b7679a924523ceeabbfef458c5f"
  },
  "kernelspec": {
   "display_name": "Python 3.7.11 ('ds')",
   "language": "python",
   "name": "python3"
  },
  "language_info": {
   "codemirror_mode": {
    "name": "ipython",
    "version": 3
   },
   "file_extension": ".py",
   "mimetype": "text/x-python",
   "name": "python",
   "nbconvert_exporter": "python",
   "pygments_lexer": "ipython3",
   "version": "3.9.13"
  },
  "orig_nbformat": 4,
  "vscode": {
   "interpreter": {
    "hash": "e1f500c63928480d774878a0f07da46b956d5b7679a924523ceeabbfef458c5f"
   }
  }
 },
 "nbformat": 4,
 "nbformat_minor": 2
}
